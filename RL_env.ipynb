{
  "nbformat": 4,
  "nbformat_minor": 0,
  "metadata": {
    "colab": {
      "provenance": [],
      "authorship_tag": "ABX9TyNfEyE5rhmjEg2pQNJXNgIO",
      "include_colab_link": true
    },
    "kernelspec": {
      "name": "python3",
      "display_name": "Python 3"
    },
    "language_info": {
      "name": "python"
    },
    "accelerator": "GPU",
    "gpuClass": "standard"
  },
  "cells": [
    {
      "cell_type": "markdown",
      "metadata": {
        "id": "view-in-github",
        "colab_type": "text"
      },
      "source": [
        "<a href=\"https://colab.research.google.com/github/azzeddineCH/RL-environment-in-JAX/blob/main/RL_env.ipynb\" target=\"_parent\"><img src=\"https://colab.research.google.com/assets/colab-badge.svg\" alt=\"Open In Colab\"/></a>"
      ]
    },
    {
      "cell_type": "markdown",
      "source": [
        "# RL env with Jax XLA\n",
        "this notebook hold an example of a simple RL environemnt implemented in JAX and possible to be compiled to XLA code. \n",
        "\n",
        "the following code is inspired by the blog post [Writing an RL Environment in JAX](https://medium.com/@ngoodger_7766/writing-an-rl-environment-in-jax-9f74338898ba) for Nikolaj Goodger.\n",
        "\n"
      ],
      "metadata": {
        "id": "zqAJ8g4TWE3g"
      }
    },
    {
      "cell_type": "code",
      "execution_count": null,
      "metadata": {
        "id": "14msnJSgmu_u"
      },
      "outputs": [],
      "source": [
        "import jax\n",
        "from jax import numpy as jnp\n",
        "import numpy as np\n",
        "from typing import NamedTuple, Tuple\n",
        "from functools import partial"
      ]
    },
    {
      "cell_type": "markdown",
      "source": [
        "## Abstract Environemnt\n",
        "\n",
        "the following in an abstract implementation of RL environment in JAX which should follow the the stateful computration in JAX.\n",
        "\n",
        "the main idea is to port the intenal state of environemnt across method calls and avoid having side effect inside the jitted methods: `env.reset and env.step`"
      ],
      "metadata": {
        "id": "Jb3nm7gLWnyG"
      }
    },
    {
      "cell_type": "code",
      "source": [
        "\n",
        "class AbstractEnv: \n",
        "\n",
        "  def __init__(self): \n",
        "    self.randim_limit = 0.05 \n",
        "\n",
        "  def _get_obs(self, state): \n",
        "    return state\n",
        "  \n",
        "  def _maybe_reset(self, env_state, done): \n",
        "\n",
        "    key = env_state[1]\n",
        "    return jax.lax.cond(done, self._reset, lambda key: env_state, key)\n",
        "  \n",
        "  def _reset(self, key): \n",
        "    new_state = jax.random.uniform(key, minval=-self.randim_limit, maxval=self.randim_limit)\n",
        "    new_key, _ = jax.random.split(key)\n",
        "\n",
        "    return new_state, new_key\n",
        "\n",
        "  def step(self, env_state, action): \n",
        "    state, key = env_state\n",
        "    new_state = state + action\n",
        "\n",
        "    reward, done, info = 1., False, None\n",
        "\n",
        "    env_state = new_state, key\n",
        "    env_state = [new_state, _] = self._maybe_reset(env_state, done)\n",
        "\n",
        "    return env_state, self._get_obs(new_state), reward, done, info\n",
        "\n",
        "  def reset(self, key): \n",
        "    [new_state, _] = env_state = self._reset(key)\n",
        "    return env_state, self._get_obs(new_state)\n"
      ],
      "metadata": {
        "id": "r6guYTK2oBQp"
      },
      "execution_count": null,
      "outputs": []
    },
    {
      "cell_type": "markdown",
      "source": [
        "## MountainCar environemnt implementation\n",
        "\n",
        "the following is a simple  implementation of the [MountainCar gym environemnt](https://www.gymlibrary.dev/environments/classic_control/mountain_car/).\n",
        "\n",
        "we carry on an implementa a jittibal rollout script that is possible to paralleize across diffrent device using pmap and vectorize inside each device using `vmap`"
      ],
      "metadata": {
        "id": "Ip3wi5p5XI8h"
      }
    },
    {
      "cell_type": "code",
      "source": [
        "class EnvState(NamedTuple): \n",
        "  key: jax.random.PRNGKeyArray\n",
        "  position: jax.Array\n",
        "  velocity: jax.Array\n",
        "\n",
        "class StepResult(NamedTuple): \n",
        "  obs: jax.Array\n",
        "  reward: jax.Array\n",
        "  done: jax.Array\n",
        "  info: jax.Array"
      ],
      "metadata": {
        "id": "G5xwMn_P2AI3"
      },
      "execution_count": null,
      "outputs": []
    },
    {
      "cell_type": "code",
      "source": [
        "class MountainCarEnv:\n",
        "\n",
        "  def __init__(self):\n",
        "    self.min_position = -1.2 \n",
        "    self.max_position = 0.6\n",
        "    self.max_speed = 0.07\n",
        "    self.goal_position= 0.5\n",
        "    self.goal_velocity = 0\n",
        "\n",
        "    self.force = 0.001\n",
        "    self.gravity = 0.0025\n",
        "\n",
        "    self.low = jnp.array(np.array([self.min_position, -self.max_speed], dtype=np.float32))\n",
        "  \n",
        "  @partial(jax.jit, static_argnums=(0,))\n",
        "  def reset(self, key: jax.random.PRNGKeyArray) -> EnvState: \n",
        "    return self._reset(key)\n",
        "  \n",
        "  def _reset(self, key: jax.random.PRNGKeyArray) -> EnvState: \n",
        "    position = jax.random.uniform(key=key, minval=-0.6, maxval=-0.4)\n",
        "    velocity = jnp.array(0, dtype=jnp.float32)\n",
        "    key, _ = jax.random.split(key)\n",
        "\n",
        "    return EnvState(key, position, velocity)\n",
        "\n",
        "  def _maybe_reset(self, env_state: EnvState, done: bool) -> EnvState : \n",
        "    [key, *_ ] = env_state\n",
        "    return jax.lax.cond(done, self._reset, lambda key: env_state, key)\n",
        "\n",
        "  def _get_obs(self, env_state: EnvState): \n",
        "    _, position, velocity = env_state\n",
        "    return jnp.array([position, velocity]) \n",
        "  \n",
        "  @partial(jax.jit, static_argnums=(0,))\n",
        "  def step(self, env_state: EnvState, action: jax.Array) -> Tuple[EnvState, StepResult] : \n",
        "    key, position, velocity = env_state\n",
        "\n",
        "    new_velocity = velocity + ((action - 1) * self.force + jnp.cos(3 * position) * (-self.gravity))\n",
        "    new_velocity = jnp.clip(new_velocity, -self.max_speed, self.max_speed)\n",
        "    \n",
        "    new_position = position + new_velocity\n",
        "    new_position = jnp.clip(new_position, self.min_position, self.max_position)\n",
        "\n",
        "    new_velocity = jax.lax.cond( (new_position == self.min_position) & (new_velocity < 0), lambda: jnp.array(0, dtype=jnp.float32) , lambda: new_velocity)\n",
        "    \n",
        "    done = (new_position >= self.goal_position) & (new_velocity >= self.goal_velocity)\n",
        "\n",
        "    reward = jnp.array(-1.0, dtype=jnp.float32) \n",
        "    info = jnp.array(0.0, dtype=jnp.float32)\n",
        "\n",
        "    env_state = EnvState(key, new_position, new_velocity)\n",
        "    env_state = self._maybe_reset(env_state, done)\n",
        "\n",
        "    return env_state, StepResult(self._get_obs(env_state), reward, done, info)\n"
      ],
      "metadata": {
        "id": "CNsSpIoQpZYW"
      },
      "execution_count": null,
      "outputs": []
    },
    {
      "cell_type": "code",
      "source": [
        "def fori_body(i, episode_data): \n",
        "  env_state, action_key, all_obs, all_reward, all_done = episode_data\n",
        "  [action] = jax.random.randint(action_key, (1,), 0, 2)\n",
        "  action_key, _ = jax.random.split(action_key)\n",
        "\n",
        "  env_state, ( obs, reward, done , _) = env.step(env_state, action)\n",
        "\n",
        "  all_obs.at[i].set(obs)\n",
        "  all_reward.at[i].set(reward)\n",
        "  all_done.at[i].set(done)\n",
        "\n",
        "  episode_data = (env_state, action_key, all_obs, all_reward, all_done)\n",
        "  return episode_data\n",
        "\n",
        "@jax.pmap\n",
        "@jax.vmap\n",
        "def rollout(key):\n",
        "  TIMESTEPS = 100000000\n",
        "  all_obsv = jnp.zeros(shape=(TIMESTEPS, 2))\n",
        "  all_reward = jnp.zeros(shape=(TIMESTEPS, 1))\n",
        "  all_done = jnp.zeros(shape=(TIMESTEPS, 1), dtype=jnp.bool_)\n",
        "  action_key = jax.random.PRNGKey(0)\n",
        "\n",
        "  env_state = env.reset(key)\n",
        "  val = (env_state, action_key, all_obsv, all_reward, all_done)\n",
        "  val = jax.lax.fori_loop(0, TIMESTEPS, fori_body, val)\n",
        "  *_, all_obsv, all_reward, all_done = val\n",
        "  \n",
        "  return all_obsv, all_reward, all_done"
      ],
      "metadata": {
        "id": "ta4AirOcUuO6"
      },
      "execution_count": null,
      "outputs": []
    },
    {
      "cell_type": "code",
      "source": [
        "NUM_ENV = 4\n",
        "NUM_DEVICES = 1"
      ],
      "metadata": {
        "id": "PsznMaM0XfWZ"
      },
      "execution_count": null,
      "outputs": []
    },
    {
      "cell_type": "code",
      "source": [
        "seed = 0\n",
        "key = jax.random.PRNGKey(seed)"
      ],
      "metadata": {
        "id": "HORW85ADXftC"
      },
      "execution_count": null,
      "outputs": []
    },
    {
      "cell_type": "code",
      "source": [
        "keys = jax.random.split(key, NUM_ENV).reshape(NUM_DEVICES, NUM_ENV // NUM_DEVICES, -1)"
      ],
      "metadata": {
        "id": "u6HlqCnhXoJY"
      },
      "execution_count": null,
      "outputs": []
    },
    {
      "cell_type": "code",
      "source": [
        "env = MountainCarEnv()"
      ],
      "metadata": {
        "id": "56Jy1OeXXvFc"
      },
      "execution_count": null,
      "outputs": []
    },
    {
      "cell_type": "code",
      "source": [
        "all_obsv, all_reward, all_done = rollout(keys)"
      ],
      "metadata": {
        "id": "57_UVOnbX780"
      },
      "execution_count": null,
      "outputs": []
    }
  ]
}